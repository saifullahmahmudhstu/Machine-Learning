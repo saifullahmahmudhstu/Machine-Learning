{
 "cells": [
  {
   "cell_type": "code",
   "execution_count": 1,
   "id": "ba176c99",
   "metadata": {},
   "outputs": [],
   "source": [
    "import pandas as pd\n",
    "import matplotlib.pyplot as plt\n",
    "import seaborn as sns\n",
    "import numpy as nm"
   ]
  },
  {
   "cell_type": "code",
   "execution_count": 2,
   "id": "65ea8cff",
   "metadata": {},
   "outputs": [],
   "source": [
    "df = pd.read_csv('sms-call-internet-mi-2013-11-05.csv', nrows= 20000)"
   ]
  },
  {
   "cell_type": "code",
   "execution_count": 3,
   "id": "661b20ad",
   "metadata": {},
   "outputs": [
    {
     "data": {
      "text/html": [
       "<div>\n",
       "<style scoped>\n",
       "    .dataframe tbody tr th:only-of-type {\n",
       "        vertical-align: middle;\n",
       "    }\n",
       "\n",
       "    .dataframe tbody tr th {\n",
       "        vertical-align: top;\n",
       "    }\n",
       "\n",
       "    .dataframe thead th {\n",
       "        text-align: right;\n",
       "    }\n",
       "</style>\n",
       "<table border=\"1\" class=\"dataframe\">\n",
       "  <thead>\n",
       "    <tr style=\"text-align: right;\">\n",
       "      <th></th>\n",
       "      <th>datetime</th>\n",
       "      <th>CellID</th>\n",
       "      <th>countrycode</th>\n",
       "      <th>smsin</th>\n",
       "      <th>smsout</th>\n",
       "      <th>callin</th>\n",
       "      <th>callout</th>\n",
       "      <th>internet</th>\n",
       "    </tr>\n",
       "  </thead>\n",
       "  <tbody>\n",
       "    <tr>\n",
       "      <th>0</th>\n",
       "      <td>2013-11-05 00:00:00</td>\n",
       "      <td>1</td>\n",
       "      <td>0</td>\n",
       "      <td>0.1098</td>\n",
       "      <td>NaN</td>\n",
       "      <td>NaN</td>\n",
       "      <td>NaN</td>\n",
       "      <td>NaN</td>\n",
       "    </tr>\n",
       "    <tr>\n",
       "      <th>1</th>\n",
       "      <td>2013-11-05 00:00:00</td>\n",
       "      <td>1</td>\n",
       "      <td>33</td>\n",
       "      <td>NaN</td>\n",
       "      <td>NaN</td>\n",
       "      <td>NaN</td>\n",
       "      <td>NaN</td>\n",
       "      <td>0.0261</td>\n",
       "    </tr>\n",
       "    <tr>\n",
       "      <th>2</th>\n",
       "      <td>2013-11-05 00:00:00</td>\n",
       "      <td>1</td>\n",
       "      <td>39</td>\n",
       "      <td>1.5658</td>\n",
       "      <td>1.2285</td>\n",
       "      <td>0.2505</td>\n",
       "      <td>0.3503</td>\n",
       "      <td>56.4289</td>\n",
       "    </tr>\n",
       "    <tr>\n",
       "      <th>3</th>\n",
       "      <td>2013-11-05 00:00:00</td>\n",
       "      <td>1</td>\n",
       "      <td>44</td>\n",
       "      <td>0.0018</td>\n",
       "      <td>NaN</td>\n",
       "      <td>NaN</td>\n",
       "      <td>NaN</td>\n",
       "      <td>NaN</td>\n",
       "    </tr>\n",
       "    <tr>\n",
       "      <th>4</th>\n",
       "      <td>2013-11-05 00:00:00</td>\n",
       "      <td>1</td>\n",
       "      <td>46</td>\n",
       "      <td>NaN</td>\n",
       "      <td>NaN</td>\n",
       "      <td>NaN</td>\n",
       "      <td>NaN</td>\n",
       "      <td>0.0261</td>\n",
       "    </tr>\n",
       "  </tbody>\n",
       "</table>\n",
       "</div>"
      ],
      "text/plain": [
       "              datetime  CellID  countrycode   smsin  smsout  callin  callout  \\\n",
       "0  2013-11-05 00:00:00       1            0  0.1098     NaN     NaN      NaN   \n",
       "1  2013-11-05 00:00:00       1           33     NaN     NaN     NaN      NaN   \n",
       "2  2013-11-05 00:00:00       1           39  1.5658  1.2285  0.2505   0.3503   \n",
       "3  2013-11-05 00:00:00       1           44  0.0018     NaN     NaN      NaN   \n",
       "4  2013-11-05 00:00:00       1           46     NaN     NaN     NaN      NaN   \n",
       "\n",
       "   internet  \n",
       "0       NaN  \n",
       "1    0.0261  \n",
       "2   56.4289  \n",
       "3       NaN  \n",
       "4    0.0261  "
      ]
     },
     "execution_count": 3,
     "metadata": {},
     "output_type": "execute_result"
    }
   ],
   "source": [
    "df.head()"
   ]
  },
  {
   "cell_type": "code",
   "execution_count": 4,
   "id": "4c2a16b4",
   "metadata": {},
   "outputs": [
    {
     "data": {
      "text/plain": [
       "(20000, 8)"
      ]
     },
     "execution_count": 4,
     "metadata": {},
     "output_type": "execute_result"
    }
   ],
   "source": [
    "df.shape"
   ]
  },
  {
   "cell_type": "code",
   "execution_count": 5,
   "id": "e412bb6f",
   "metadata": {},
   "outputs": [
    {
     "name": "stdout",
     "output_type": "stream",
     "text": [
      "<class 'pandas.core.frame.DataFrame'>\n",
      "RangeIndex: 20000 entries, 0 to 19999\n",
      "Data columns (total 8 columns):\n",
      " #   Column       Non-Null Count  Dtype  \n",
      "---  ------       --------------  -----  \n",
      " 0   datetime     20000 non-null  object \n",
      " 1   CellID       20000 non-null  int64  \n",
      " 2   countrycode  20000 non-null  int64  \n",
      " 3   smsin        10996 non-null  float64\n",
      " 4   smsout       5870 non-null   float64\n",
      " 5   callin       5144 non-null   float64\n",
      " 6   callout      7501 non-null   float64\n",
      " 7   internet     10909 non-null  float64\n",
      "dtypes: float64(5), int64(2), object(1)\n",
      "memory usage: 1.2+ MB\n"
     ]
    }
   ],
   "source": [
    "df.info()"
   ]
  },
  {
   "cell_type": "code",
   "execution_count": 6,
   "id": "a2cfd0fd",
   "metadata": {},
   "outputs": [
    {
     "data": {
      "text/html": [
       "<div>\n",
       "<style scoped>\n",
       "    .dataframe tbody tr th:only-of-type {\n",
       "        vertical-align: middle;\n",
       "    }\n",
       "\n",
       "    .dataframe tbody tr th {\n",
       "        vertical-align: top;\n",
       "    }\n",
       "\n",
       "    .dataframe thead th {\n",
       "        text-align: right;\n",
       "    }\n",
       "</style>\n",
       "<table border=\"1\" class=\"dataframe\">\n",
       "  <thead>\n",
       "    <tr style=\"text-align: right;\">\n",
       "      <th></th>\n",
       "      <th>CellID</th>\n",
       "      <th>countrycode</th>\n",
       "      <th>smsin</th>\n",
       "      <th>smsout</th>\n",
       "      <th>callin</th>\n",
       "      <th>callout</th>\n",
       "      <th>internet</th>\n",
       "    </tr>\n",
       "  </thead>\n",
       "  <tbody>\n",
       "    <tr>\n",
       "      <th>CellID</th>\n",
       "      <td>1.000000</td>\n",
       "      <td>0.026314</td>\n",
       "      <td>0.241771</td>\n",
       "      <td>0.272846</td>\n",
       "      <td>0.305625</td>\n",
       "      <td>0.288300</td>\n",
       "      <td>0.182563</td>\n",
       "    </tr>\n",
       "    <tr>\n",
       "      <th>countrycode</th>\n",
       "      <td>0.026314</td>\n",
       "      <td>1.000000</td>\n",
       "      <td>-0.022419</td>\n",
       "      <td>-0.029817</td>\n",
       "      <td>-0.029917</td>\n",
       "      <td>-0.024279</td>\n",
       "      <td>-0.021607</td>\n",
       "    </tr>\n",
       "    <tr>\n",
       "      <th>smsin</th>\n",
       "      <td>0.241771</td>\n",
       "      <td>-0.022419</td>\n",
       "      <td>1.000000</td>\n",
       "      <td>0.853553</td>\n",
       "      <td>0.654177</td>\n",
       "      <td>0.605134</td>\n",
       "      <td>0.685118</td>\n",
       "    </tr>\n",
       "    <tr>\n",
       "      <th>smsout</th>\n",
       "      <td>0.272846</td>\n",
       "      <td>-0.029817</td>\n",
       "      <td>0.853553</td>\n",
       "      <td>1.000000</td>\n",
       "      <td>0.602943</td>\n",
       "      <td>0.555142</td>\n",
       "      <td>0.667968</td>\n",
       "    </tr>\n",
       "    <tr>\n",
       "      <th>callin</th>\n",
       "      <td>0.305625</td>\n",
       "      <td>-0.029917</td>\n",
       "      <td>0.654177</td>\n",
       "      <td>0.602943</td>\n",
       "      <td>1.000000</td>\n",
       "      <td>0.826269</td>\n",
       "      <td>0.886489</td>\n",
       "    </tr>\n",
       "    <tr>\n",
       "      <th>callout</th>\n",
       "      <td>0.288300</td>\n",
       "      <td>-0.024279</td>\n",
       "      <td>0.605134</td>\n",
       "      <td>0.555142</td>\n",
       "      <td>0.826269</td>\n",
       "      <td>1.000000</td>\n",
       "      <td>0.812652</td>\n",
       "    </tr>\n",
       "    <tr>\n",
       "      <th>internet</th>\n",
       "      <td>0.182563</td>\n",
       "      <td>-0.021607</td>\n",
       "      <td>0.685118</td>\n",
       "      <td>0.667968</td>\n",
       "      <td>0.886489</td>\n",
       "      <td>0.812652</td>\n",
       "      <td>1.000000</td>\n",
       "    </tr>\n",
       "  </tbody>\n",
       "</table>\n",
       "</div>"
      ],
      "text/plain": [
       "               CellID  countrycode     smsin    smsout    callin   callout  \\\n",
       "CellID       1.000000     0.026314  0.241771  0.272846  0.305625  0.288300   \n",
       "countrycode  0.026314     1.000000 -0.022419 -0.029817 -0.029917 -0.024279   \n",
       "smsin        0.241771    -0.022419  1.000000  0.853553  0.654177  0.605134   \n",
       "smsout       0.272846    -0.029817  0.853553  1.000000  0.602943  0.555142   \n",
       "callin       0.305625    -0.029917  0.654177  0.602943  1.000000  0.826269   \n",
       "callout      0.288300    -0.024279  0.605134  0.555142  0.826269  1.000000   \n",
       "internet     0.182563    -0.021607  0.685118  0.667968  0.886489  0.812652   \n",
       "\n",
       "             internet  \n",
       "CellID       0.182563  \n",
       "countrycode -0.021607  \n",
       "smsin        0.685118  \n",
       "smsout       0.667968  \n",
       "callin       0.886489  \n",
       "callout      0.812652  \n",
       "internet     1.000000  "
      ]
     },
     "execution_count": 6,
     "metadata": {},
     "output_type": "execute_result"
    }
   ],
   "source": [
    "df.corr()"
   ]
  },
  {
   "cell_type": "code",
   "execution_count": 7,
   "id": "f9819b7f",
   "metadata": {},
   "outputs": [
    {
     "data": {
      "text/html": [
       "<div>\n",
       "<style scoped>\n",
       "    .dataframe tbody tr th:only-of-type {\n",
       "        vertical-align: middle;\n",
       "    }\n",
       "\n",
       "    .dataframe tbody tr th {\n",
       "        vertical-align: top;\n",
       "    }\n",
       "\n",
       "    .dataframe thead th {\n",
       "        text-align: right;\n",
       "    }\n",
       "</style>\n",
       "<table border=\"1\" class=\"dataframe\">\n",
       "  <thead>\n",
       "    <tr style=\"text-align: right;\">\n",
       "      <th></th>\n",
       "      <th>CellID</th>\n",
       "      <th>countrycode</th>\n",
       "      <th>smsin</th>\n",
       "      <th>smsout</th>\n",
       "      <th>callin</th>\n",
       "      <th>callout</th>\n",
       "      <th>internet</th>\n",
       "    </tr>\n",
       "  </thead>\n",
       "  <tbody>\n",
       "    <tr>\n",
       "      <th>count</th>\n",
       "      <td>20000.000000</td>\n",
       "      <td>20000.000000</td>\n",
       "      <td>10996.000000</td>\n",
       "      <td>5870.000000</td>\n",
       "      <td>5144.000000</td>\n",
       "      <td>7501.000000</td>\n",
       "      <td>10909.000000</td>\n",
       "    </tr>\n",
       "    <tr>\n",
       "      <th>mean</th>\n",
       "      <td>2491.359150</td>\n",
       "      <td>270.722600</td>\n",
       "      <td>1.803934</td>\n",
       "      <td>3.089774</td>\n",
       "      <td>0.843035</td>\n",
       "      <td>0.825997</td>\n",
       "      <td>81.153029</td>\n",
       "    </tr>\n",
       "    <tr>\n",
       "      <th>std</th>\n",
       "      <td>1314.071527</td>\n",
       "      <td>4112.526795</td>\n",
       "      <td>5.302641</td>\n",
       "      <td>8.470604</td>\n",
       "      <td>1.863956</td>\n",
       "      <td>1.901442</td>\n",
       "      <td>248.659518</td>\n",
       "    </tr>\n",
       "    <tr>\n",
       "      <th>min</th>\n",
       "      <td>1.000000</td>\n",
       "      <td>0.000000</td>\n",
       "      <td>0.000000</td>\n",
       "      <td>0.000000</td>\n",
       "      <td>0.000000</td>\n",
       "      <td>0.000000</td>\n",
       "      <td>0.000000</td>\n",
       "    </tr>\n",
       "    <tr>\n",
       "      <th>25%</th>\n",
       "      <td>1395.000000</td>\n",
       "      <td>20.000000</td>\n",
       "      <td>0.102300</td>\n",
       "      <td>0.289600</td>\n",
       "      <td>0.077675</td>\n",
       "      <td>0.073200</td>\n",
       "      <td>0.053200</td>\n",
       "    </tr>\n",
       "    <tr>\n",
       "      <th>50%</th>\n",
       "      <td>2612.000000</td>\n",
       "      <td>39.000000</td>\n",
       "      <td>0.412950</td>\n",
       "      <td>0.755500</td>\n",
       "      <td>0.284900</td>\n",
       "      <td>0.229500</td>\n",
       "      <td>0.235800</td>\n",
       "    </tr>\n",
       "    <tr>\n",
       "      <th>75%</th>\n",
       "      <td>3669.000000</td>\n",
       "      <td>46.000000</td>\n",
       "      <td>1.276625</td>\n",
       "      <td>2.287425</td>\n",
       "      <td>0.783600</td>\n",
       "      <td>0.696200</td>\n",
       "      <td>63.556000</td>\n",
       "    </tr>\n",
       "    <tr>\n",
       "      <th>max</th>\n",
       "      <td>4506.000000</td>\n",
       "      <td>88239.000000</td>\n",
       "      <td>75.701800</td>\n",
       "      <td>161.733700</td>\n",
       "      <td>34.896600</td>\n",
       "      <td>28.016000</td>\n",
       "      <td>4953.494900</td>\n",
       "    </tr>\n",
       "  </tbody>\n",
       "</table>\n",
       "</div>"
      ],
      "text/plain": [
       "             CellID   countrycode         smsin       smsout       callin  \\\n",
       "count  20000.000000  20000.000000  10996.000000  5870.000000  5144.000000   \n",
       "mean    2491.359150    270.722600      1.803934     3.089774     0.843035   \n",
       "std     1314.071527   4112.526795      5.302641     8.470604     1.863956   \n",
       "min        1.000000      0.000000      0.000000     0.000000     0.000000   \n",
       "25%     1395.000000     20.000000      0.102300     0.289600     0.077675   \n",
       "50%     2612.000000     39.000000      0.412950     0.755500     0.284900   \n",
       "75%     3669.000000     46.000000      1.276625     2.287425     0.783600   \n",
       "max     4506.000000  88239.000000     75.701800   161.733700    34.896600   \n",
       "\n",
       "           callout      internet  \n",
       "count  7501.000000  10909.000000  \n",
       "mean      0.825997     81.153029  \n",
       "std       1.901442    248.659518  \n",
       "min       0.000000      0.000000  \n",
       "25%       0.073200      0.053200  \n",
       "50%       0.229500      0.235800  \n",
       "75%       0.696200     63.556000  \n",
       "max      28.016000   4953.494900  "
      ]
     },
     "execution_count": 7,
     "metadata": {},
     "output_type": "execute_result"
    }
   ],
   "source": [
    "df.describe()"
   ]
  },
  {
   "cell_type": "code",
   "execution_count": 8,
   "id": "e5b667ff",
   "metadata": {},
   "outputs": [
    {
     "data": {
      "text/plain": [
       "<AxesSubplot:>"
      ]
     },
     "execution_count": 8,
     "metadata": {},
     "output_type": "execute_result"
    },
    {
     "data": {
      "image/png": "[encoded data removed]",
      "text/plain": [
       "<Figure size 640x480 with 2 Axes>"
      ]
     },
     "metadata": {},
     "output_type": "display_data"
    }
   ],
   "source": [
    "sns.heatmap(df.corr(),annot=True)"
   ]
  },
  {
   "cell_type": "code",
   "execution_count": 9,
   "id": "6c2221dc",
   "metadata": {},
   "outputs": [
    {
     "data": {
      "text/plain": [
       "<AxesSubplot:xlabel='countrycode', ylabel='count'>"
      ]
     },
     "execution_count": 9,
     "metadata": {},
     "output_type": "execute_result"
    },
    {
     "data": {
      "image/png": "[encoded data removed]",
      "text/plain": [
       "<Figure size 1500x1200 with 1 Axes>"
      ]
     },
     "metadata": {},
     "output_type": "display_data"
    }
   ],
   "source": [
    "plt.figure(figsize=(15,12))\n",
    "sns.countplot(data=df, x='countrycode')\n"
   ]
  },
  {
   "cell_type": "code",
   "execution_count": 10,
   "id": "aec9bed9",
   "metadata": {},
   "outputs": [],
   "source": [
    "df_new = df.dropna(axis=0,how='any')"
   ]
  },
  {
   "cell_type": "code",
   "execution_count": 11,
   "id": "264f3e73",
   "metadata": {},
   "outputs": [
    {
     "data": {
      "text/html": [
       "<div>\n",
       "<style scoped>\n",
       "    .dataframe tbody tr th:only-of-type {\n",
       "        vertical-align: middle;\n",
       "    }\n",
       "\n",
       "    .dataframe tbody tr th {\n",
       "        vertical-align: top;\n",
       "    }\n",
       "\n",
       "    .dataframe thead th {\n",
       "        text-align: right;\n",
       "    }\n",
       "</style>\n",
       "<table border=\"1\" class=\"dataframe\">\n",
       "  <thead>\n",
       "    <tr style=\"text-align: right;\">\n",
       "      <th></th>\n",
       "      <th>datetime</th>\n",
       "      <th>CellID</th>\n",
       "      <th>countrycode</th>\n",
       "      <th>smsin</th>\n",
       "      <th>smsout</th>\n",
       "      <th>callin</th>\n",
       "      <th>callout</th>\n",
       "      <th>internet</th>\n",
       "    </tr>\n",
       "  </thead>\n",
       "  <tbody>\n",
       "    <tr>\n",
       "      <th>2</th>\n",
       "      <td>2013-11-05 00:00:00</td>\n",
       "      <td>1</td>\n",
       "      <td>39</td>\n",
       "      <td>1.5658</td>\n",
       "      <td>1.2285</td>\n",
       "      <td>0.2505</td>\n",
       "      <td>0.3503</td>\n",
       "      <td>56.4289</td>\n",
       "    </tr>\n",
       "    <tr>\n",
       "      <th>7</th>\n",
       "      <td>2013-11-05 00:00:00</td>\n",
       "      <td>2</td>\n",
       "      <td>39</td>\n",
       "      <td>1.5933</td>\n",
       "      <td>1.2416</td>\n",
       "      <td>0.2495</td>\n",
       "      <td>0.3551</td>\n",
       "      <td>56.6035</td>\n",
       "    </tr>\n",
       "    <tr>\n",
       "      <th>12</th>\n",
       "      <td>2013-11-05 00:00:00</td>\n",
       "      <td>3</td>\n",
       "      <td>39</td>\n",
       "      <td>1.6227</td>\n",
       "      <td>1.2556</td>\n",
       "      <td>0.2484</td>\n",
       "      <td>0.3603</td>\n",
       "      <td>56.7894</td>\n",
       "    </tr>\n",
       "    <tr>\n",
       "      <th>16</th>\n",
       "      <td>2013-11-05 00:00:00</td>\n",
       "      <td>4</td>\n",
       "      <td>39</td>\n",
       "      <td>1.4860</td>\n",
       "      <td>1.1905</td>\n",
       "      <td>0.2535</td>\n",
       "      <td>0.3361</td>\n",
       "      <td>55.9231</td>\n",
       "    </tr>\n",
       "    <tr>\n",
       "      <th>21</th>\n",
       "      <td>2013-11-05 00:00:00</td>\n",
       "      <td>5</td>\n",
       "      <td>39</td>\n",
       "      <td>1.3694</td>\n",
       "      <td>1.0929</td>\n",
       "      <td>0.2287</td>\n",
       "      <td>0.2998</td>\n",
       "      <td>50.5446</td>\n",
       "    </tr>\n",
       "  </tbody>\n",
       "</table>\n",
       "</div>"
      ],
      "text/plain": [
       "               datetime  CellID  countrycode   smsin  smsout  callin  callout  \\\n",
       "2   2013-11-05 00:00:00       1           39  1.5658  1.2285  0.2505   0.3503   \n",
       "7   2013-11-05 00:00:00       2           39  1.5933  1.2416  0.2495   0.3551   \n",
       "12  2013-11-05 00:00:00       3           39  1.6227  1.2556  0.2484   0.3603   \n",
       "16  2013-11-05 00:00:00       4           39  1.4860  1.1905  0.2535   0.3361   \n",
       "21  2013-11-05 00:00:00       5           39  1.3694  1.0929  0.2287   0.2998   \n",
       "\n",
       "    internet  \n",
       "2    56.4289  \n",
       "7    56.6035  \n",
       "12   56.7894  \n",
       "16   55.9231  \n",
       "21   50.5446  "
      ]
     },
     "execution_count": 11,
     "metadata": {},
     "output_type": "execute_result"
    }
   ],
   "source": [
    "df_new.head()"
   ]
  },
  {
   "cell_type": "code",
   "execution_count": 12,
   "id": "1ba2975e",
   "metadata": {},
   "outputs": [],
   "source": [
    "X = df_new[['CellID','smsin','smsout','callin','internet']]\n",
    "Y = df_new['callout']"
   ]
  },
  {
   "cell_type": "markdown",
   "id": "94e151bb",
   "metadata": {},
   "source": [
    "# Now Trained"
   ]
  },
  {
   "cell_type": "code",
   "execution_count": 13,
   "id": "0b986a08",
   "metadata": {},
   "outputs": [],
   "source": [
    "from sklearn.model_selection import train_test_split"
   ]
  },
  {
   "cell_type": "code",
   "execution_count": 14,
   "id": "98584327",
   "metadata": {},
   "outputs": [],
   "source": [
    "Xtrain, Xtest, Ytrain, Ytest = train_test_split(X, Y, test_size= .25, random_state= 225)"
   ]
  },
  {
   "cell_type": "code",
   "execution_count": 15,
   "id": "a98fd143",
   "metadata": {},
   "outputs": [
    {
     "data": {
      "text/html": [
       "<div>\n",
       "<style scoped>\n",
       "    .dataframe tbody tr th:only-of-type {\n",
       "        vertical-align: middle;\n",
       "    }\n",
       "\n",
       "    .dataframe tbody tr th {\n",
       "        vertical-align: top;\n",
       "    }\n",
       "\n",
       "    .dataframe thead th {\n",
       "        text-align: right;\n",
       "    }\n",
       "</style>\n",
       "<table border=\"1\" class=\"dataframe\">\n",
       "  <thead>\n",
       "    <tr style=\"text-align: right;\">\n",
       "      <th></th>\n",
       "      <th>CellID</th>\n",
       "      <th>smsin</th>\n",
       "      <th>smsout</th>\n",
       "      <th>callin</th>\n",
       "      <th>internet</th>\n",
       "    </tr>\n",
       "  </thead>\n",
       "  <tbody>\n",
       "    <tr>\n",
       "      <th>2190</th>\n",
       "      <td>615</td>\n",
       "      <td>0.2134</td>\n",
       "      <td>0.3612</td>\n",
       "      <td>0.0169</td>\n",
       "      <td>16.4880</td>\n",
       "    </tr>\n",
       "    <tr>\n",
       "      <th>4948</th>\n",
       "      <td>1384</td>\n",
       "      <td>1.1220</td>\n",
       "      <td>0.8553</td>\n",
       "      <td>0.5328</td>\n",
       "      <td>71.0584</td>\n",
       "    </tr>\n",
       "    <tr>\n",
       "      <th>12956</th>\n",
       "      <td>3274</td>\n",
       "      <td>1.4899</td>\n",
       "      <td>2.3327</td>\n",
       "      <td>0.5182</td>\n",
       "      <td>145.6124</td>\n",
       "    </tr>\n",
       "    <tr>\n",
       "      <th>7922</th>\n",
       "      <td>2098</td>\n",
       "      <td>0.3667</td>\n",
       "      <td>0.4213</td>\n",
       "      <td>0.1794</td>\n",
       "      <td>18.7217</td>\n",
       "    </tr>\n",
       "    <tr>\n",
       "      <th>8219</th>\n",
       "      <td>2158</td>\n",
       "      <td>0.0007</td>\n",
       "      <td>0.0017</td>\n",
       "      <td>0.0002</td>\n",
       "      <td>10.7326</td>\n",
       "    </tr>\n",
       "  </tbody>\n",
       "</table>\n",
       "</div>"
      ],
      "text/plain": [
       "       CellID   smsin  smsout  callin  internet\n",
       "2190      615  0.2134  0.3612  0.0169   16.4880\n",
       "4948     1384  1.1220  0.8553  0.5328   71.0584\n",
       "12956    3274  1.4899  2.3327  0.5182  145.6124\n",
       "7922     2098  0.3667  0.4213  0.1794   18.7217\n",
       "8219     2158  0.0007  0.0017  0.0002   10.7326"
      ]
     },
     "execution_count": 15,
     "metadata": {},
     "output_type": "execute_result"
    }
   ],
   "source": [
    "Xtrain.head()"
   ]
  },
  {
   "cell_type": "code",
   "execution_count": 16,
   "id": "bb8ee324",
   "metadata": {},
   "outputs": [
    {
     "data": {
      "text/plain": [
       "2190     0.0538\n",
       "4948     1.2869\n",
       "12956    0.9973\n",
       "7922     0.2805\n",
       "8219     0.0007\n",
       "Name: callout, dtype: float64"
      ]
     },
     "execution_count": 16,
     "metadata": {},
     "output_type": "execute_result"
    }
   ],
   "source": [
    "Ytrain.head()"
   ]
  },
  {
   "cell_type": "code",
   "execution_count": 17,
   "id": "09b5ac89",
   "metadata": {},
   "outputs": [],
   "source": [
    "X1 =X.copy()"
   ]
  },
  {
   "cell_type": "code",
   "execution_count": 18,
   "id": "b80e52d8",
   "metadata": {},
   "outputs": [
    {
     "data": {
      "text/html": [
       "<div>\n",
       "<style scoped>\n",
       "    .dataframe tbody tr th:only-of-type {\n",
       "        vertical-align: middle;\n",
       "    }\n",
       "\n",
       "    .dataframe tbody tr th {\n",
       "        vertical-align: top;\n",
       "    }\n",
       "\n",
       "    .dataframe thead th {\n",
       "        text-align: right;\n",
       "    }\n",
       "</style>\n",
       "<table border=\"1\" class=\"dataframe\">\n",
       "  <thead>\n",
       "    <tr style=\"text-align: right;\">\n",
       "      <th></th>\n",
       "      <th>CellID</th>\n",
       "      <th>smsin</th>\n",
       "      <th>smsout</th>\n",
       "      <th>callin</th>\n",
       "      <th>internet</th>\n",
       "    </tr>\n",
       "  </thead>\n",
       "  <tbody>\n",
       "    <tr>\n",
       "      <th>2</th>\n",
       "      <td>1</td>\n",
       "      <td>1.5658</td>\n",
       "      <td>1.2285</td>\n",
       "      <td>0.2505</td>\n",
       "      <td>56.4289</td>\n",
       "    </tr>\n",
       "    <tr>\n",
       "      <th>7</th>\n",
       "      <td>2</td>\n",
       "      <td>1.5933</td>\n",
       "      <td>1.2416</td>\n",
       "      <td>0.2495</td>\n",
       "      <td>56.6035</td>\n",
       "    </tr>\n",
       "    <tr>\n",
       "      <th>12</th>\n",
       "      <td>3</td>\n",
       "      <td>1.6227</td>\n",
       "      <td>1.2556</td>\n",
       "      <td>0.2484</td>\n",
       "      <td>56.7894</td>\n",
       "    </tr>\n",
       "    <tr>\n",
       "      <th>16</th>\n",
       "      <td>4</td>\n",
       "      <td>1.4860</td>\n",
       "      <td>1.1905</td>\n",
       "      <td>0.2535</td>\n",
       "      <td>55.9231</td>\n",
       "    </tr>\n",
       "    <tr>\n",
       "      <th>21</th>\n",
       "      <td>5</td>\n",
       "      <td>1.3694</td>\n",
       "      <td>1.0929</td>\n",
       "      <td>0.2287</td>\n",
       "      <td>50.5446</td>\n",
       "    </tr>\n",
       "  </tbody>\n",
       "</table>\n",
       "</div>"
      ],
      "text/plain": [
       "    CellID   smsin  smsout  callin  internet\n",
       "2        1  1.5658  1.2285  0.2505   56.4289\n",
       "7        2  1.5933  1.2416  0.2495   56.6035\n",
       "12       3  1.6227  1.2556  0.2484   56.7894\n",
       "16       4  1.4860  1.1905  0.2535   55.9231\n",
       "21       5  1.3694  1.0929  0.2287   50.5446"
      ]
     },
     "execution_count": 18,
     "metadata": {},
     "output_type": "execute_result"
    }
   ],
   "source": [
    "X1.head()"
   ]
  },
  {
   "cell_type": "code",
   "execution_count": null,
   "id": "239fee29",
   "metadata": {},
   "outputs": [],
   "source": []
  },
  {
   "cell_type": "code",
   "execution_count": 19,
   "id": "9b2c4791",
   "metadata": {},
   "outputs": [],
   "source": [
    "Y1 =Y.copy()"
   ]
  },
  {
   "cell_type": "code",
   "execution_count": 20,
   "id": "720550d1",
   "metadata": {},
   "outputs": [
    {
     "data": {
      "text/plain": [
       "2     0.3503\n",
       "7     0.3551\n",
       "12    0.3603\n",
       "16    0.3361\n",
       "21    0.2998\n",
       "Name: callout, dtype: float64"
      ]
     },
     "execution_count": 20,
     "metadata": {},
     "output_type": "execute_result"
    }
   ],
   "source": [
    "Y1.head()"
   ]
  },
  {
   "cell_type": "markdown",
   "id": "de087b34",
   "metadata": {},
   "source": [
    "# Apply in Model"
   ]
  },
  {
   "cell_type": "markdown",
   "id": "9a0e20b5",
   "metadata": {},
   "source": [
    "# Linear Regression"
   ]
  },
  {
   "cell_type": "code",
   "execution_count": 21,
   "id": "e758bb3a",
   "metadata": {},
   "outputs": [],
   "source": [
    "from sklearn.linear_model import LinearRegression"
   ]
  },
  {
   "cell_type": "code",
   "execution_count": 22,
   "id": "8e20b328",
   "metadata": {},
   "outputs": [],
   "source": [
    "model1 = LinearRegression()"
   ]
  },
  {
   "cell_type": "code",
   "execution_count": 23,
   "id": "3094ae80",
   "metadata": {},
   "outputs": [
    {
     "data": {
      "text/plain": [
       "LinearRegression()"
      ]
     },
     "execution_count": 23,
     "metadata": {},
     "output_type": "execute_result"
    }
   ],
   "source": [
    "model1.fit(Xtrain,Ytrain)"
   ]
  },
  {
   "cell_type": "code",
   "execution_count": 24,
   "id": "b52c09db",
   "metadata": {},
   "outputs": [],
   "source": [
    "predict1 = model1.predict(Xtest)"
   ]
  },
  {
   "cell_type": "code",
   "execution_count": 25,
   "id": "95ac9fde",
   "metadata": {},
   "outputs": [
    {
     "data": {
      "text/plain": [
       "array([0.54232357, 0.34448978, 1.88230051, ..., 1.65720838, 1.74138182,\n",
       "       0.31956737])"
      ]
     },
     "execution_count": 25,
     "metadata": {},
     "output_type": "execute_result"
    }
   ],
   "source": [
    "predict1"
   ]
  },
  {
   "cell_type": "markdown",
   "id": "de41d186",
   "metadata": {},
   "source": []
  },
  {
   "cell_type": "code",
   "execution_count": 26,
   "id": "85a65dfc",
   "metadata": {},
   "outputs": [
    {
     "data": {
      "text/plain": [
       "0.7219941299328139"
      ]
     },
     "execution_count": 26,
     "metadata": {},
     "output_type": "execute_result"
    }
   ],
   "source": [
    "model1.score(Xtest,Ytest)"
   ]
  },
  {
   "cell_type": "code",
   "execution_count": 27,
   "id": "a83abe50",
   "metadata": {},
   "outputs": [],
   "source": [
    "# Import Metrics"
   ]
  },
  {
   "cell_type": "code",
   "execution_count": 28,
   "id": "d400c414",
   "metadata": {},
   "outputs": [],
   "source": [
    "from sklearn.metrics import mean_absolute_error,mean_squared_error, r2_score"
   ]
  },
  {
   "cell_type": "code",
   "execution_count": 29,
   "id": "b68a2966",
   "metadata": {},
   "outputs": [],
   "source": [
    "# Metrics use in Linear Regression"
   ]
  },
  {
   "cell_type": "code",
   "execution_count": 30,
   "id": "feeb5200",
   "metadata": {},
   "outputs": [
    {
     "data": {
      "text/plain": [
       "0.5909371469023871"
      ]
     },
     "execution_count": 30,
     "metadata": {},
     "output_type": "execute_result"
    }
   ],
   "source": [
    "mae1 = mean_absolute_error(Ytest,predict1)\n",
    "mae1"
   ]
  },
  {
   "cell_type": "code",
   "execution_count": 31,
   "id": "de8dbeba",
   "metadata": {},
   "outputs": [
    {
     "data": {
      "text/plain": [
       "1.598396844231396"
      ]
     },
     "execution_count": 31,
     "metadata": {},
     "output_type": "execute_result"
    }
   ],
   "source": [
    "mse1 = mean_squared_error(Ytest,predict1)\n",
    "mse1"
   ]
  },
  {
   "cell_type": "code",
   "execution_count": 32,
   "id": "2084fb72",
   "metadata": {},
   "outputs": [
    {
     "data": {
      "text/plain": [
       "1.2642772022904614"
      ]
     },
     "execution_count": 32,
     "metadata": {},
     "output_type": "execute_result"
    }
   ],
   "source": [
    "rmse1=nm.sqrt(mse1)\n",
    "rmse1"
   ]
  },
  {
   "cell_type": "code",
   "execution_count": 33,
   "id": "75e03b8d",
   "metadata": {},
   "outputs": [
    {
     "data": {
      "text/plain": [
       "0.7219941299328139"
      ]
     },
     "execution_count": 33,
     "metadata": {},
     "output_type": "execute_result"
    }
   ],
   "source": [
    "lr_score = r2_score(Ytest,predict1)\n",
    "lr_score"
   ]
  },
  {
   "cell_type": "markdown",
   "id": "4bd57230",
   "metadata": {},
   "source": [
    "# KNN Regression"
   ]
  },
  {
   "cell_type": "code",
   "execution_count": 34,
   "id": "2908e284",
   "metadata": {},
   "outputs": [],
   "source": [
    "from sklearn.neighbors import KNeighborsRegressor"
   ]
  },
  {
   "cell_type": "code",
   "execution_count": 35,
   "id": "b20ded83",
   "metadata": {},
   "outputs": [],
   "source": [
    "model2 = KNeighborsRegressor()"
   ]
  },
  {
   "cell_type": "code",
   "execution_count": 36,
   "id": "8d9296ff",
   "metadata": {},
   "outputs": [
    {
     "data": {
      "text/plain": [
       "KNeighborsRegressor()"
      ]
     },
     "execution_count": 36,
     "metadata": {},
     "output_type": "execute_result"
    }
   ],
   "source": [
    "model2.fit(Xtrain,Ytrain)"
   ]
  },
  {
   "cell_type": "code",
   "execution_count": 37,
   "id": "44c93270",
   "metadata": {},
   "outputs": [],
   "source": [
    "predict2 = model2.predict(Xtest)"
   ]
  },
  {
   "cell_type": "code",
   "execution_count": 38,
   "id": "236ac70e",
   "metadata": {},
   "outputs": [
    {
     "data": {
      "text/plain": [
       "0.7053011997631812"
      ]
     },
     "execution_count": 38,
     "metadata": {},
     "output_type": "execute_result"
    }
   ],
   "source": [
    "model2.score(Xtest,Ytest)"
   ]
  },
  {
   "cell_type": "code",
   "execution_count": null,
   "id": "831120d4",
   "metadata": {},
   "outputs": [],
   "source": []
  },
  {
   "cell_type": "code",
   "execution_count": 39,
   "id": "8dc6265a",
   "metadata": {},
   "outputs": [],
   "source": [
    "# Metrics use in KNN Regression"
   ]
  },
  {
   "cell_type": "code",
   "execution_count": 40,
   "id": "277cb9b0",
   "metadata": {},
   "outputs": [
    {
     "data": {
      "text/plain": [
       "0.5859140823970037"
      ]
     },
     "execution_count": 40,
     "metadata": {},
     "output_type": "execute_result"
    }
   ],
   "source": [
    "MAE2 = mean_absolute_error(Ytest,predict2)\n",
    "MAE2"
   ]
  },
  {
   "cell_type": "code",
   "execution_count": 41,
   "id": "811ae514",
   "metadata": {},
   "outputs": [
    {
     "data": {
      "text/plain": [
       "1.6943729719932583"
      ]
     },
     "execution_count": 41,
     "metadata": {},
     "output_type": "execute_result"
    }
   ],
   "source": [
    "MSE2 = mean_squared_error(Ytest,predict2)\n",
    "MSE2"
   ]
  },
  {
   "cell_type": "code",
   "execution_count": 42,
   "id": "112b564c",
   "metadata": {},
   "outputs": [
    {
     "data": {
      "text/plain": [
       "1.301680825699318"
      ]
     },
     "execution_count": 42,
     "metadata": {},
     "output_type": "execute_result"
    }
   ],
   "source": [
    "RMSE2 = nm.sqrt(MSE2)\n",
    "RMSE2"
   ]
  },
  {
   "cell_type": "code",
   "execution_count": 43,
   "id": "502e46fb",
   "metadata": {},
   "outputs": [
    {
     "data": {
      "text/plain": [
       "0.7053011997631812"
      ]
     },
     "execution_count": 43,
     "metadata": {},
     "output_type": "execute_result"
    }
   ],
   "source": [
    "kn_score = r2_score(Ytest,predict2)\n",
    "kn_score"
   ]
  },
  {
   "cell_type": "markdown",
   "id": "19a1e740",
   "metadata": {},
   "source": [
    "# SVR"
   ]
  },
  {
   "cell_type": "code",
   "execution_count": 44,
   "id": "a0345c1b",
   "metadata": {},
   "outputs": [],
   "source": [
    "from sklearn.svm import SVR"
   ]
  },
  {
   "cell_type": "code",
   "execution_count": 45,
   "id": "95190d24",
   "metadata": {},
   "outputs": [],
   "source": [
    "model3 = SVR()"
   ]
  },
  {
   "cell_type": "code",
   "execution_count": 46,
   "id": "b26459a9",
   "metadata": {},
   "outputs": [
    {
     "data": {
      "text/plain": [
       "SVR()"
      ]
     },
     "execution_count": 46,
     "metadata": {},
     "output_type": "execute_result"
    }
   ],
   "source": [
    "model3.fit(Xtrain,Ytrain)"
   ]
  },
  {
   "cell_type": "code",
   "execution_count": 47,
   "id": "b77093d3",
   "metadata": {},
   "outputs": [],
   "source": [
    "predict3 = model3.predict(Xtest)"
   ]
  },
  {
   "cell_type": "code",
   "execution_count": 48,
   "id": "88ecdafb",
   "metadata": {},
   "outputs": [
    {
     "data": {
      "text/plain": [
       "0.6547842253488608"
      ]
     },
     "execution_count": 48,
     "metadata": {},
     "output_type": "execute_result"
    }
   ],
   "source": [
    "model3.score(Xtest,Ytest)"
   ]
  },
  {
   "cell_type": "code",
   "execution_count": 49,
   "id": "86c57e8d",
   "metadata": {},
   "outputs": [],
   "source": [
    "# Metrics use in KNN Regression\n"
   ]
  },
  {
   "cell_type": "code",
   "execution_count": 50,
   "id": "edabf513",
   "metadata": {},
   "outputs": [
    {
     "data": {
      "text/plain": [
       "0.596091197843963"
      ]
     },
     "execution_count": 50,
     "metadata": {},
     "output_type": "execute_result"
    }
   ],
   "source": [
    "MAE3 = mean_absolute_error(Ytest,predict3)\n",
    "MAE3"
   ]
  },
  {
   "cell_type": "code",
   "execution_count": 51,
   "id": "8c29c88b",
   "metadata": {},
   "outputs": [
    {
     "data": {
      "text/plain": [
       "1.9848206969440076"
      ]
     },
     "execution_count": 51,
     "metadata": {},
     "output_type": "execute_result"
    }
   ],
   "source": [
    "MSE3 = mean_squared_error(Ytest,predict3)\n",
    "MSE3"
   ]
  },
  {
   "cell_type": "code",
   "execution_count": 52,
   "id": "9535c9ed",
   "metadata": {},
   "outputs": [
    {
     "data": {
      "text/plain": [
       "0.6547842253488608"
      ]
     },
     "execution_count": 52,
     "metadata": {},
     "output_type": "execute_result"
    }
   ],
   "source": [
    "svr_score =r2_score(Ytest,predict3)\n",
    "svr_score"
   ]
  },
  {
   "cell_type": "code",
   "execution_count": 53,
   "id": "1e08d766",
   "metadata": {},
   "outputs": [
    {
     "data": {
      "text/plain": [
       "1.4088366466499966"
      ]
     },
     "execution_count": 53,
     "metadata": {},
     "output_type": "execute_result"
    }
   ],
   "source": [
    "RMSE3 = nm.sqrt(MSE3)\n",
    "RMSE3"
   ]
  },
  {
   "cell_type": "markdown",
   "id": "9d75e97d",
   "metadata": {},
   "source": [
    "# Experimental Result "
   ]
  },
  {
   "cell_type": "code",
   "execution_count": 58,
   "id": "2f637fab",
   "metadata": {},
   "outputs": [
    {
     "data": {
      "text/plain": [
       "<AxesSubplot:xlabel='callout', ylabel='callin'>"
      ]
     },
     "execution_count": 58,
     "metadata": {},
     "output_type": "execute_result"
    },
    {
     "data": {
      "image/png": "[encoded data removed]",
      "text/plain": [
       "<Figure size 640x480 with 1 Axes>"
      ]
     },
     "metadata": {},
     "output_type": "display_data"
    }
   ],
   "source": [
    "sns.barplot(x='callout',y='callin',data=df_new)"
   ]
  },
  {
   "cell_type": "code",
   "execution_count": 75,
   "id": "9d55dc0d",
   "metadata": {},
   "outputs": [
    {
     "data": {
      "image/png": "[encoded data removed]",
      "text/plain": [
       "<Figure size 1000x600 with 1 Axes>"
      ]
     },
     "metadata": {},
     "output_type": "display_data"
    }
   ],
   "source": []
  },
  {
   "cell_type": "code",
   "execution_count": 86,
   "id": "e650fba3",
   "metadata": {},
   "outputs": [
    {
     "data": {
      "image/png": "[encoded data removed]",
      "text/plain": [
       "<Figure size 640x480 with 1 Axes>"
      ]
     },
     "metadata": {},
     "output_type": "display_data"
    }
   ],
   "source": [
    "mse = [mse1, MSE2, MSE3]\n",
    "mae = [mae1, MSE2, MAE3]\n",
    "rmse = [rmse1, RMSE2, RMSE3]\n",
    "labels = ['Linear Regression', 'KNN Regression', 'SVM Regression']\n",
    "\n",
    "# Plot the bars\n",
    "plt.bar(labels, mse, width=0.8, color='red', label='MSE')\n",
    "plt.bar(labels, mae, width=0.8, color='green', label='MAE')\n",
    "plt.bar(labels, rmse, width=0.8, color='blue', label='RMSE')\n",
    "\n",
    "# Add chart title and axis labels\n",
    "plt.title('Evaluation Metrics')\n",
    "plt.xlabel('Regression Algorithm')\n",
    "plt.ylabel('Error Value')\n",
    "\n",
    "# Add legend\n",
    "plt.legend()\n",
    "\n",
    "# Show the plot\n",
    "plt.show()"
   ]
  },
  {
   "cell_type": "code",
   "execution_count": null,
   "id": "59a6a212",
   "metadata": {},
   "outputs": [],
   "source": []
  }
 ],
 "metadata": {
  "kernelspec": {
   "display_name": "Python 3 (ipykernel)",
   "language": "python",
   "name": "python3"
  },
  "language_info": {
   "codemirror_mode": {
    "name": "ipython",
    "version": 3
   },
   "file_extension": ".py",
   "mimetype": "text/x-python",
   "name": "python",
   "nbconvert_exporter": "python",
   "pygments_lexer": "ipython3",
   "version": "3.9.13"
  }
 },
 "nbformat": 4,
 "nbformat_minor": 5
}
